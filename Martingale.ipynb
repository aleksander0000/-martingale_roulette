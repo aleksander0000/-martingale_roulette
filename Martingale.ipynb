{
 "cells": [
  {
   "cell_type": "markdown",
   "metadata": {},
   "source": [
    "# Martingale betting system used on European roulette ///// wartosc teoretyczna:(1200 razy 36)/(1216 razy37) = 0.96017069701\n"
   ]
  },
  {
   "cell_type": "code",
   "execution_count": 159,
   "metadata": {},
   "outputs": [],
   "source": [
    "import random\n",
    "import math"
   ]
  },
  {
   "cell_type": "code",
   "execution_count": 160,
   "metadata": {},
   "outputs": [],
   "source": [
    "\n",
    "def rulette(bet,repetitions,colour,zero,one_to_twelve,theerteen_to_eighteen,nine_teen_to_thirdysix):\n",
    "    win = 0 \n",
    "    drawn = random.randint(0,36)\n",
    "    red_numbers = [1,3,5,7,9,12,14,16,18,19,21,23,25,27,30,32,34,36]\n",
    "    black_numbers = [2,4,6,8,10,11,13,15,17,20,22,24,26,28,29,31,33,35]\n",
    "    if (colour =='red' and drawn in red_numbers):\n",
    "        win = 2*bet\n",
    "    if (colour =='black' and drawn in black_numbers):\n",
    "        win = 2*bet\n",
    "\n",
    "    return win\n",
    "    "
   ]
  },
  {
   "cell_type": "code",
   "execution_count": 161,
   "metadata": {},
   "outputs": [],
   "source": [
    "results = []\n",
    "#goal = expected winning\n",
    "goal = 16\n",
    "#budget_s = starting budget \n",
    "budget_s = 1200\n",
    "#number of games\n",
    "number_of_games = 1000\n",
    "for i in range(number_of_games):\n",
    "    budget = budget_s\n",
    "    bet = 16\n",
    "    biggest_sum = 0\n",
    "    c = 0\n",
    "    while(biggest_sum<budget):\n",
    "        c=c+1\n",
    "        max_counter = -1\n",
    "        for i in range (1):\n",
    "            counter = 1\n",
    "\n",
    "            result = rulette(bet,1,'red', 0,0,0,0)\n",
    "            budget = budget - bet + result\n",
    "            i = 1\n",
    "            if (result !=0):\n",
    "                continue\n",
    "            while (result ==0):\n",
    "                result = rulette(i*bet,1,'red', 0,0,0,0)\n",
    "                i = i*2\n",
    "                counter = counter +1\n",
    "                budget = budget - ((bet*i)/2) + result\n",
    "            budget = budget + bet\n",
    "            if (counter>max_counter):\n",
    "                max_counter = counter\n",
    "        if (max_counter>1):\n",
    "            biggest_sum = bet *(( 1-math.pow(2,max_counter))/(1-2))\n",
    "\n",
    "        if (biggest_sum>budget):\n",
    "            results.append(0)\n",
    "            break\n",
    "        if (budget >= goal+budget_s):\n",
    "            results.append(1)\n",
    "            break\n"
   ]
  },
  {
   "cell_type": "code",
   "execution_count": 162,
   "metadata": {},
   "outputs": [
    {
     "name": "stdout",
     "output_type": "stream",
     "text": [
      "0.977\n"
     ]
    }
   ],
   "source": [
    "import statistics\n",
    "#wl =percentage of games won\n",
    "wl =statistics.mean(results)\n",
    "print(wl)\n"
   ]
  },
  {
   "cell_type": "code",
   "execution_count": null,
   "metadata": {},
   "outputs": [],
   "source": []
  }
 ],
 "metadata": {
  "kernelspec": {
   "display_name": "Python 3",
   "language": "python",
   "name": "python3"
  },
  "language_info": {
   "codemirror_mode": {
    "name": "ipython",
    "version": 3
   },
   "file_extension": ".py",
   "mimetype": "text/x-python",
   "name": "python",
   "nbconvert_exporter": "python",
   "pygments_lexer": "ipython3",
   "version": "3.8.5"
  }
 },
 "nbformat": 4,
 "nbformat_minor": 4
}
